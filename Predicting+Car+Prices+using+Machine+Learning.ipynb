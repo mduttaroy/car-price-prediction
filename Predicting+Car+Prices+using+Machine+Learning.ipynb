{
 "cells": [
  {
   "cell_type": "markdown",
   "metadata": {},
   "source": [
    "** Data Set Summary :** The dataset contains information on various cars about their different technical aspects and specifications such as their make, number of doors, horsepower, engine size, city and highway mpg etc. \n",
    "\n",
    "** Data Source : ** https://archive.ics.uci.edu/ml/datasets/Automobile\n",
    "\n",
    "** Goal :** The goal of this project is to ***predict the prices of cars*** based on the available specifications."
   ]
  },
  {
   "cell_type": "code",
   "execution_count": 199,
   "metadata": {
    "collapsed": true
   },
   "outputs": [],
   "source": [
    "# Importing all the necessary packages \n",
    "import numpy as np\n",
    "import pandas as pd\n",
    "import matplotlib.pyplot as plt\n",
    "%matplotlib inline"
   ]
  },
  {
   "cell_type": "code",
   "execution_count": 200,
   "metadata": {
    "collapsed": true
   },
   "outputs": [],
   "source": [
    "col_names = ['symboling','normalized-losses','make','fuel-type','aspiration','num-of-doors','body-style','drive-wheels','engine-location','wheel-base','length','width','height','curb-weight','engine-type','num-of-cylinders','engine-size','fuel-system','bore','stroke','compression-ratio','horsepower','peak-rpm','city-mpg','highway-mpg','price']\n",
    "cars = pd.read_csv(r'C:\\Users\\duttaroym\\Documents\\Python\\imports-85.data', names=col_names)"
   ]
  },
  {
   "cell_type": "markdown",
   "metadata": {},
   "source": [
    "#### Exploring the Data"
   ]
  },
  {
   "cell_type": "code",
   "execution_count": 201,
   "metadata": {
    "collapsed": false
   },
   "outputs": [
    {
     "name": "stdout",
     "output_type": "stream",
     "text": [
      "<class 'pandas.core.frame.DataFrame'>\n",
      "RangeIndex: 205 entries, 0 to 204\n",
      "Data columns (total 26 columns):\n",
      "symboling            205 non-null int64\n",
      "normalized-losses    205 non-null object\n",
      "make                 205 non-null object\n",
      "fuel-type            205 non-null object\n",
      "aspiration           205 non-null object\n",
      "num-of-doors         205 non-null object\n",
      "body-style           205 non-null object\n",
      "drive-wheels         205 non-null object\n",
      "engine-location      205 non-null object\n",
      "wheel-base           205 non-null float64\n",
      "length               205 non-null float64\n",
      "width                205 non-null float64\n",
      "height               205 non-null float64\n",
      "curb-weight          205 non-null int64\n",
      "engine-type          205 non-null object\n",
      "num-of-cylinders     205 non-null object\n",
      "engine-size          205 non-null int64\n",
      "fuel-system          205 non-null object\n",
      "bore                 205 non-null object\n",
      "stroke               205 non-null object\n",
      "compression-ratio    205 non-null float64\n",
      "horsepower           205 non-null object\n",
      "peak-rpm             205 non-null object\n",
      "city-mpg             205 non-null int64\n",
      "highway-mpg          205 non-null int64\n",
      "price                205 non-null object\n",
      "dtypes: float64(5), int64(5), object(16)\n",
      "memory usage: 41.7+ KB\n"
     ]
    }
   ],
   "source": [
    "cars.info()"
   ]
  },
  {
   "cell_type": "code",
   "execution_count": 202,
   "metadata": {
    "collapsed": false
   },
   "outputs": [
    {
     "data": {
      "text/html": [
       "<div>\n",
       "<table border=\"1\" class=\"dataframe\">\n",
       "  <thead>\n",
       "    <tr style=\"text-align: right;\">\n",
       "      <th></th>\n",
       "      <th>symboling</th>\n",
       "      <th>normalized-losses</th>\n",
       "      <th>make</th>\n",
       "      <th>fuel-type</th>\n",
       "      <th>aspiration</th>\n",
       "      <th>num-of-doors</th>\n",
       "      <th>body-style</th>\n",
       "      <th>drive-wheels</th>\n",
       "      <th>engine-location</th>\n",
       "      <th>wheel-base</th>\n",
       "      <th>...</th>\n",
       "      <th>engine-size</th>\n",
       "      <th>fuel-system</th>\n",
       "      <th>bore</th>\n",
       "      <th>stroke</th>\n",
       "      <th>compression-ratio</th>\n",
       "      <th>horsepower</th>\n",
       "      <th>peak-rpm</th>\n",
       "      <th>city-mpg</th>\n",
       "      <th>highway-mpg</th>\n",
       "      <th>price</th>\n",
       "    </tr>\n",
       "  </thead>\n",
       "  <tbody>\n",
       "    <tr>\n",
       "      <th>0</th>\n",
       "      <td>3</td>\n",
       "      <td>?</td>\n",
       "      <td>alfa-romero</td>\n",
       "      <td>gas</td>\n",
       "      <td>std</td>\n",
       "      <td>two</td>\n",
       "      <td>convertible</td>\n",
       "      <td>rwd</td>\n",
       "      <td>front</td>\n",
       "      <td>88.6</td>\n",
       "      <td>...</td>\n",
       "      <td>130</td>\n",
       "      <td>mpfi</td>\n",
       "      <td>3.47</td>\n",
       "      <td>2.68</td>\n",
       "      <td>9.0</td>\n",
       "      <td>111</td>\n",
       "      <td>5000</td>\n",
       "      <td>21</td>\n",
       "      <td>27</td>\n",
       "      <td>13495</td>\n",
       "    </tr>\n",
       "    <tr>\n",
       "      <th>1</th>\n",
       "      <td>3</td>\n",
       "      <td>?</td>\n",
       "      <td>alfa-romero</td>\n",
       "      <td>gas</td>\n",
       "      <td>std</td>\n",
       "      <td>two</td>\n",
       "      <td>convertible</td>\n",
       "      <td>rwd</td>\n",
       "      <td>front</td>\n",
       "      <td>88.6</td>\n",
       "      <td>...</td>\n",
       "      <td>130</td>\n",
       "      <td>mpfi</td>\n",
       "      <td>3.47</td>\n",
       "      <td>2.68</td>\n",
       "      <td>9.0</td>\n",
       "      <td>111</td>\n",
       "      <td>5000</td>\n",
       "      <td>21</td>\n",
       "      <td>27</td>\n",
       "      <td>16500</td>\n",
       "    </tr>\n",
       "    <tr>\n",
       "      <th>2</th>\n",
       "      <td>1</td>\n",
       "      <td>?</td>\n",
       "      <td>alfa-romero</td>\n",
       "      <td>gas</td>\n",
       "      <td>std</td>\n",
       "      <td>two</td>\n",
       "      <td>hatchback</td>\n",
       "      <td>rwd</td>\n",
       "      <td>front</td>\n",
       "      <td>94.5</td>\n",
       "      <td>...</td>\n",
       "      <td>152</td>\n",
       "      <td>mpfi</td>\n",
       "      <td>2.68</td>\n",
       "      <td>3.47</td>\n",
       "      <td>9.0</td>\n",
       "      <td>154</td>\n",
       "      <td>5000</td>\n",
       "      <td>19</td>\n",
       "      <td>26</td>\n",
       "      <td>16500</td>\n",
       "    </tr>\n",
       "    <tr>\n",
       "      <th>3</th>\n",
       "      <td>2</td>\n",
       "      <td>164</td>\n",
       "      <td>audi</td>\n",
       "      <td>gas</td>\n",
       "      <td>std</td>\n",
       "      <td>four</td>\n",
       "      <td>sedan</td>\n",
       "      <td>fwd</td>\n",
       "      <td>front</td>\n",
       "      <td>99.8</td>\n",
       "      <td>...</td>\n",
       "      <td>109</td>\n",
       "      <td>mpfi</td>\n",
       "      <td>3.19</td>\n",
       "      <td>3.40</td>\n",
       "      <td>10.0</td>\n",
       "      <td>102</td>\n",
       "      <td>5500</td>\n",
       "      <td>24</td>\n",
       "      <td>30</td>\n",
       "      <td>13950</td>\n",
       "    </tr>\n",
       "    <tr>\n",
       "      <th>4</th>\n",
       "      <td>2</td>\n",
       "      <td>164</td>\n",
       "      <td>audi</td>\n",
       "      <td>gas</td>\n",
       "      <td>std</td>\n",
       "      <td>four</td>\n",
       "      <td>sedan</td>\n",
       "      <td>4wd</td>\n",
       "      <td>front</td>\n",
       "      <td>99.4</td>\n",
       "      <td>...</td>\n",
       "      <td>136</td>\n",
       "      <td>mpfi</td>\n",
       "      <td>3.19</td>\n",
       "      <td>3.40</td>\n",
       "      <td>8.0</td>\n",
       "      <td>115</td>\n",
       "      <td>5500</td>\n",
       "      <td>18</td>\n",
       "      <td>22</td>\n",
       "      <td>17450</td>\n",
       "    </tr>\n",
       "  </tbody>\n",
       "</table>\n",
       "<p>5 rows × 26 columns</p>\n",
       "</div>"
      ],
      "text/plain": [
       "   symboling normalized-losses         make fuel-type aspiration num-of-doors  \\\n",
       "0          3                 ?  alfa-romero       gas        std          two   \n",
       "1          3                 ?  alfa-romero       gas        std          two   \n",
       "2          1                 ?  alfa-romero       gas        std          two   \n",
       "3          2               164         audi       gas        std         four   \n",
       "4          2               164         audi       gas        std         four   \n",
       "\n",
       "    body-style drive-wheels engine-location  wheel-base  ...    engine-size  \\\n",
       "0  convertible          rwd           front        88.6  ...            130   \n",
       "1  convertible          rwd           front        88.6  ...            130   \n",
       "2    hatchback          rwd           front        94.5  ...            152   \n",
       "3        sedan          fwd           front        99.8  ...            109   \n",
       "4        sedan          4wd           front        99.4  ...            136   \n",
       "\n",
       "   fuel-system  bore  stroke compression-ratio horsepower  peak-rpm city-mpg  \\\n",
       "0         mpfi  3.47    2.68               9.0        111      5000       21   \n",
       "1         mpfi  3.47    2.68               9.0        111      5000       21   \n",
       "2         mpfi  2.68    3.47               9.0        154      5000       19   \n",
       "3         mpfi  3.19    3.40              10.0        102      5500       24   \n",
       "4         mpfi  3.19    3.40               8.0        115      5500       18   \n",
       "\n",
       "  highway-mpg  price  \n",
       "0          27  13495  \n",
       "1          27  16500  \n",
       "2          26  16500  \n",
       "3          30  13950  \n",
       "4          22  17450  \n",
       "\n",
       "[5 rows x 26 columns]"
      ]
     },
     "execution_count": 202,
     "metadata": {},
     "output_type": "execute_result"
    }
   ],
   "source": [
    "cars.head()"
   ]
  },
  {
   "cell_type": "markdown",
   "metadata": {},
   "source": [
    "While inspecting, it appears that the dataset has missing values and those are indicated with '?' mark. \n",
    "\n",
    "The dataset is not showing any null values because all the missing value is filled with '?' ."
   ]
  },
  {
   "cell_type": "markdown",
   "metadata": {},
   "source": [
    "#### Cleaning and Transforming the Data"
   ]
  },
  {
   "cell_type": "code",
   "execution_count": 203,
   "metadata": {
    "collapsed": false
   },
   "outputs": [
    {
     "data": {
      "text/plain": [
       "?      41\n",
       "161    11\n",
       "91      8\n",
       "150     7\n",
       "104     6\n",
       "128     6\n",
       "134     6\n",
       "102     5\n",
       "168     5\n",
       "65      5\n",
       "95      5\n",
       "94      5\n",
       "85      5\n",
       "74      5\n",
       "103     5\n",
       "122     4\n",
       "118     4\n",
       "93      4\n",
       "106     4\n",
       "148     4\n",
       "83      3\n",
       "154     3\n",
       "137     3\n",
       "115     3\n",
       "125     3\n",
       "101     3\n",
       "145     2\n",
       "197     2\n",
       "108     2\n",
       "81      2\n",
       "113     2\n",
       "158     2\n",
       "194     2\n",
       "119     2\n",
       "153     2\n",
       "87      2\n",
       "110     2\n",
       "188     2\n",
       "89      2\n",
       "129     2\n",
       "164     2\n",
       "192     2\n",
       "256     1\n",
       "90      1\n",
       "121     1\n",
       "142     1\n",
       "186     1\n",
       "107     1\n",
       "231     1\n",
       "98      1\n",
       "77      1\n",
       "78      1\n",
       "Name: normalized-losses, dtype: int64"
      ]
     },
     "execution_count": 203,
     "metadata": {},
     "output_type": "execute_result"
    }
   ],
   "source": [
    "# Counting missing values\n",
    "cars['normalized-losses'].value_counts()"
   ]
  },
  {
   "cell_type": "markdown",
   "metadata": {},
   "source": [
    "Inquiring the range of missing values in 'normalized-losses' column, we can find that there are 41 missing values which are marked with  '?'. Its 20% of the whole dataset. \n",
    "So it will not be a good idea to drop such a big amount of data. \n",
    "\n",
    "But, the column ***'normalized-losses'*** represents the average loss payment per insured vehicle. \n",
    "\n",
    "So, it is unlikely to be a strong predictor of the price of the vehicle. Price can be a predictor of loss of payment but the other-way is not true. \n",
    "\n",
    "So we can drop this whole column from our dataset. "
   ]
  },
  {
   "cell_type": "code",
   "execution_count": 204,
   "metadata": {
    "collapsed": false
   },
   "outputs": [],
   "source": [
    "cars.drop('normalized-losses',axis = 1, inplace = True)"
   ]
  },
  {
   "cell_type": "code",
   "execution_count": 205,
   "metadata": {
    "collapsed": true
   },
   "outputs": [],
   "source": [
    "# Replacing the '?'\n",
    "cars.replace(\"?\", np.nan, inplace=True)"
   ]
  },
  {
   "cell_type": "code",
   "execution_count": 206,
   "metadata": {
    "collapsed": false
   },
   "outputs": [
    {
     "name": "stdout",
     "output_type": "stream",
     "text": [
      "<class 'pandas.core.frame.DataFrame'>\n",
      "RangeIndex: 205 entries, 0 to 204\n",
      "Data columns (total 25 columns):\n",
      "symboling            205 non-null int64\n",
      "make                 205 non-null object\n",
      "fuel-type            205 non-null object\n",
      "aspiration           205 non-null object\n",
      "num-of-doors         203 non-null object\n",
      "body-style           205 non-null object\n",
      "drive-wheels         205 non-null object\n",
      "engine-location      205 non-null object\n",
      "wheel-base           205 non-null float64\n",
      "length               205 non-null float64\n",
      "width                205 non-null float64\n",
      "height               205 non-null float64\n",
      "curb-weight          205 non-null int64\n",
      "engine-type          205 non-null object\n",
      "num-of-cylinders     205 non-null object\n",
      "engine-size          205 non-null int64\n",
      "fuel-system          205 non-null object\n",
      "bore                 201 non-null object\n",
      "stroke               201 non-null object\n",
      "compression-ratio    205 non-null float64\n",
      "horsepower           203 non-null object\n",
      "peak-rpm             203 non-null object\n",
      "city-mpg             205 non-null int64\n",
      "highway-mpg          205 non-null int64\n",
      "price                201 non-null object\n",
      "dtypes: float64(5), int64(5), object(15)\n",
      "memory usage: 40.1+ KB\n"
     ]
    }
   ],
   "source": [
    "cars.info()"
   ]
  },
  {
   "cell_type": "markdown",
   "metadata": {},
   "source": [
    "It appears that the new dataframe consists maximum 11 missing values in various columns. Since it is very small number, these observation can be deleted without having any impact on the data. "
   ]
  },
  {
   "cell_type": "code",
   "execution_count": 207,
   "metadata": {
    "collapsed": false
   },
   "outputs": [],
   "source": [
    "# Droppping NaN values\n",
    "cars.dropna(axis = 0, how = 'any', inplace = 'True')"
   ]
  },
  {
   "cell_type": "code",
   "execution_count": 217,
   "metadata": {
    "collapsed": false
   },
   "outputs": [],
   "source": [
    "# Correcting the Datatypes of variables\n",
    "cars[['price','peak-rpm','horsepower']] = cars[['price','peak-rpm','horsepower']].astype(int)\n",
    "cars[['stroke','bore',]] = cars[['stroke','bore',]].astype(float)"
   ]
  },
  {
   "cell_type": "markdown",
   "metadata": {},
   "source": [
    "#### Modelling the Data & Evaluation"
   ]
  },
  {
   "cell_type": "code",
   "execution_count": 209,
   "metadata": {
    "collapsed": true
   },
   "outputs": [],
   "source": [
    "# Importing the necessary SciKit-Learn Libraries\n",
    "from sklearn.model_selection import train_test_split\n",
    "from sklearn.preprocessing import StandardScaler\n",
    "from sklearn.neighbors import KNeighborsRegressor\n",
    "from sklearn.metrics import mean_squared_error"
   ]
  },
  {
   "cell_type": "code",
   "execution_count": 215,
   "metadata": {
    "collapsed": false
   },
   "outputs": [],
   "source": [
    "def knn_train_test(df, col, kval):\n",
    "    #temprmse =[]\n",
    "    X = df[[col]]\n",
    "    y = df['price']\n",
    "    X_train, X_test, y_train, y_test = train_test_split(X, y, test_size = 0.2)\n",
    "    sc_X = StandardScaler()\n",
    "    X_train = sc_X.fit_transform(X_train)\n",
    "    X_test = sc_X.transform(X_test)\n",
    "    for k in kval:\n",
    "        knn = KNeighborsRegressor(k)\n",
    "        knn.fit(X_train, y_train)\n",
    "        y_pred = knn.predict(X_test)\n",
    "        mse = mean_squared_error(y_test, y_pred)\n",
    "        rmse = mse ** (1/2)\n",
    "        print(\"RMSE of {} for k = {} : {}\".format(col,k, rmse))\n",
    "        plt.xlim([0,10])\n",
    "        plt.ylim([0,10000])\n",
    "        plt.xticks([1,3,5,7,9])\n",
    "        plt.bar(k,rmse)\n",
    "        #temprmse.append(rmse)\n",
    "        #if len(temprmse) == 5:\n",
    "            #plt.xlim([0,10])\n",
    "            #plt.ylim([0,10000])\n",
    "            #plt.xticks([1,3,5,7,9])\n",
    "            #plt.bar(kval,temprmse)\n",
    "            #temprmse = []\n",
    "                 \n",
    "    plt.show()      \n",
    "          \n",
    "    "
   ]
  },
  {
   "cell_type": "code",
   "execution_count": 211,
   "metadata": {
    "collapsed": true
   },
   "outputs": [],
   "source": [
    "features = ['highway-mpg', 'city-mpg', 'peak-rpm', 'horsepower', 'engine-size', 'curb-weight', \n",
    "            'width', 'length', 'height', 'wheel-base','bore', 'stroke']"
   ]
  },
  {
   "cell_type": "code",
   "execution_count": 216,
   "metadata": {
    "collapsed": false
   },
   "outputs": [
    {
     "name": "stdout",
     "output_type": "stream",
     "text": [
      "RMSE of highway-mpg for k = 1 : 6199.4940426308485\n",
      "RMSE of highway-mpg for k = 3 : 4712.874023184214\n",
      "RMSE of highway-mpg for k = 5 : 3675.688369648498\n",
      "RMSE of highway-mpg for k = 7 : 3568.432049879912\n",
      "RMSE of highway-mpg for k = 9 : 3533.4711932646196\n"
     ]
    },
    {
     "data": {
      "image/png": "[encoded data removed]",
      "text/plain": [
       "<matplotlib.figure.Figure at 0x12519780>"
      ]
     },
     "metadata": {},
     "output_type": "display_data"
    },
    {
     "name": "stdout",
     "output_type": "stream",
     "text": [
      "RMSE of city-mpg for k = 1 : 3781.3034382746505\n",
      "RMSE of city-mpg for k = 3 : 4025.80794389643\n",
      "RMSE of city-mpg for k = 5 : 4826.534517563379\n",
      "RMSE of city-mpg for k = 7 : 4871.731171839743\n",
      "RMSE of city-mpg for k = 9 : 5246.978906006387\n"
     ]
    },
    {
     "data": {
      "image/png": "[encoded data removed]",
      "text/plain": [
       "<matplotlib.figure.Figure at 0x12088ef0>"
      ]
     },
     "metadata": {},
     "output_type": "display_data"
    },
    {
     "name": "stdout",
     "output_type": "stream",
     "text": [
      "RMSE of peak-rpm for k = 1 : 7696.915732608211\n",
      "RMSE of peak-rpm for k = 3 : 5326.160308292423\n",
      "RMSE of peak-rpm for k = 5 : 5829.783270809935\n",
      "RMSE of peak-rpm for k = 7 : 6697.856027432003\n",
      "RMSE of peak-rpm for k = 9 : 6860.316418306878\n"
     ]
    },
    {
     "data": {
      "image/png": "[encoded data removed]",
      "text/plain": [
       "<matplotlib.figure.Figure at 0xfe32390>"
      ]
     },
     "metadata": {},
     "output_type": "display_data"
    },
    {
     "name": "stdout",
     "output_type": "stream",
     "text": [
      "RMSE of horsepower for k = 1 : 2844.8766094642706\n",
      "RMSE of horsepower for k = 3 : 3131.9569048968497\n",
      "RMSE of horsepower for k = 5 : 3357.2259226010715\n",
      "RMSE of horsepower for k = 7 : 3420.1601014147363\n",
      "RMSE of horsepower for k = 9 : 3439.573086827268\n"
     ]
    },
    {
     "data": {
      "image/png": "[encoded data removed]",
      "text/plain": [
       "<matplotlib.figure.Figure at 0xfe15e10>"
      ]
     },
     "metadata": {},
     "output_type": "display_data"
    },
    {
     "name": "stdout",
     "output_type": "stream",
     "text": [
      "RMSE of engine-size for k = 1 : 3171.1138785558032\n",
      "RMSE of engine-size for k = 3 : 2494.0497668082403\n",
      "RMSE of engine-size for k = 5 : 2776.131936937085\n",
      "RMSE of engine-size for k = 7 : 2812.73829113212\n",
      "RMSE of engine-size for k = 9 : 3068.1268906235605\n"
     ]
    },
    {
     "data": {
      "image/png": "[encoded data removed]",
      "text/plain": [
       "<matplotlib.figure.Figure at 0xa99e6a0>"
      ]
     },
     "metadata": {},
     "output_type": "display_data"
    },
    {
     "name": "stdout",
     "output_type": "stream",
     "text": [
      "RMSE of curb-weight for k = 1 : 6348.812713554785\n",
      "RMSE of curb-weight for k = 3 : 6146.613811256515\n",
      "RMSE of curb-weight for k = 5 : 5959.795624356809\n",
      "RMSE of curb-weight for k = 7 : 5365.251857606693\n",
      "RMSE of curb-weight for k = 9 : 5677.467924317633\n"
     ]
    },
    {
     "data": {
      "image/png": "[encoded data removed]",
      "text/plain": [
       "<matplotlib.figure.Figure at 0x1274f0b8>"
      ]
     },
     "metadata": {},
     "output_type": "display_data"
    },
    {
     "name": "stdout",
     "output_type": "stream",
     "text": [
      "RMSE of width for k = 1 : 3511.656486909174\n",
      "RMSE of width for k = 3 : 4708.579859214272\n",
      "RMSE of width for k = 5 : 4785.42716952957\n",
      "RMSE of width for k = 7 : 4556.976095218343\n",
      "RMSE of width for k = 9 : 4187.861728221318\n"
     ]
    },
    {
     "data": {
      "image/png": "[encoded data removed]",
      "text/plain": [
       "<matplotlib.figure.Figure at 0x1f59f048>"
      ]
     },
     "metadata": {},
     "output_type": "display_data"
    },
    {
     "name": "stdout",
     "output_type": "stream",
     "text": [
      "RMSE of length for k = 1 : 5503.838215515069\n",
      "RMSE of length for k = 3 : 5382.267455539808\n",
      "RMSE of length for k = 5 : 5046.792487541735\n",
      "RMSE of length for k = 7 : 5270.513080811758\n",
      "RMSE of length for k = 9 : 5411.793950521365\n"
     ]
    },
    {
     "data": {
      "image/png": "[encoded data removed]",
      "text/plain": [
       "<matplotlib.figure.Figure at 0x127c4828>"
      ]
     },
     "metadata": {},
     "output_type": "display_data"
    },
    {
     "name": "stdout",
     "output_type": "stream",
     "text": [
      "RMSE of height for k = 1 : 6913.185578743988\n",
      "RMSE of height for k = 3 : 6260.569774184766\n",
      "RMSE of height for k = 5 : 6178.118119331343\n",
      "RMSE of height for k = 7 : 6195.8439785040955\n",
      "RMSE of height for k = 9 : 6437.83130780609\n"
     ]
    },
    {
     "data": {
      "image/png": "[encoded data removed]",
      "text/plain": [
       "<matplotlib.figure.Figure at 0x125234a8>"
      ]
     },
     "metadata": {},
     "output_type": "display_data"
    },
    {
     "name": "stdout",
     "output_type": "stream",
     "text": [
      "RMSE of wheel-base for k = 1 : 3559.449935896535\n",
      "RMSE of wheel-base for k = 3 : 6778.922787128214\n",
      "RMSE of wheel-base for k = 5 : 6594.8611614242145\n",
      "RMSE of wheel-base for k = 7 : 6384.8377658465215\n",
      "RMSE of wheel-base for k = 9 : 6132.014446871287\n"
     ]
    },
    {
     "data": {
      "image/png": "[encoded data removed]",
      "text/plain": [
       "<matplotlib.figure.Figure at 0x12741ba8>"
      ]
     },
     "metadata": {},
     "output_type": "display_data"
    },
    {
     "name": "stdout",
     "output_type": "stream",
     "text": [
      "RMSE of bore for k = 1 : 8758.778237010469\n",
      "RMSE of bore for k = 3 : 7725.510826654995\n",
      "RMSE of bore for k = 5 : 7308.149910395962\n",
      "RMSE of bore for k = 7 : 7378.806750677301\n",
      "RMSE of bore for k = 9 : 7718.0385982278785\n"
     ]
    },
    {
     "data": {
      "image/png": "[encoded data removed]",
      "text/plain": [
       "<matplotlib.figure.Figure at 0x10f86390>"
      ]
     },
     "metadata": {},
     "output_type": "display_data"
    },
    {
     "name": "stdout",
     "output_type": "stream",
     "text": [
      "RMSE of stroke for k = 1 : 10396.549230270393\n",
      "RMSE of stroke for k = 3 : 9984.527823465156\n",
      "RMSE of stroke for k = 5 : 7948.55850940508\n",
      "RMSE of stroke for k = 7 : 7743.907230842538\n",
      "RMSE of stroke for k = 9 : 7780.679659937189\n"
     ]
    },
    {
     "data": {
      "image/png": "[encoded data removed]",
      "text/plain": [
       "<matplotlib.figure.Figure at 0x12575940>"
      ]
     },
     "metadata": {},
     "output_type": "display_data"
    }
   ],
   "source": [
    "for i in features:\n",
    "    knn_train_test(cars, i, [1, 3, 5, 7, 9])"
   ]
  },
  {
   "cell_type": "markdown",
   "metadata": {
    "collapsed": true
   },
   "source": [
    "From the graphs, we can see for **engine-size** and **horsepower**, the errors are lower than other variables. So I take these 2 variable to create the KNearestNeighbours model for deciding the price of the car"
   ]
  },
  {
   "cell_type": "code",
   "execution_count": 265,
   "metadata": {
    "collapsed": true
   },
   "outputs": [],
   "source": [
    "two_var = ['engine-size', 'horsepower']\n",
    "three_var = ['engine-size', 'horsepower','width' ] # For 3 variables\n",
    "four_var = ['engine-size', 'horsepower', 'width', 'highway-mpg'] # For 4 variables\n",
    "five_var = ['engine-size', 'horsepower', 'width', 'highway-mpg','city-mpg'] # for 5 variables"
   ]
  },
  {
   "cell_type": "code",
   "execution_count": 266,
   "metadata": {
    "collapsed": true
   },
   "outputs": [],
   "source": [
    "def knn_train_test1(df, col, k):\n",
    "    X = df[col]\n",
    "    y = df['price']\n",
    "    X_train, X_test, y_train, y_test = train_test_split(X, y, test_size = 0.2)\n",
    "    sc_X = StandardScaler()\n",
    "    X_train = sc_X.fit_transform(X_train)\n",
    "    X_test = sc_X.transform(X_test)\n",
    "    knn = KNeighborsRegressor(k)\n",
    "    knn.fit(X_train, y_train)\n",
    "    y_pred = knn.predict(X_test)\n",
    "    mse = mean_squared_error(y_test, y_pred)\n",
    "    rmse = mse ** (1/2)\n",
    "    print(\"RMSE of {} for k = {} : {}\".format(col,k, rmse))\n",
    "        "
   ]
  },
  {
   "cell_type": "code",
   "execution_count": 328,
   "metadata": {
    "collapsed": false
   },
   "outputs": [
    {
     "name": "stdout",
     "output_type": "stream",
     "text": [
      "RMSE of ['engine-size', 'horsepower'] for k = 3 : 2064.614970692593\n",
      "RMSE of ['engine-size', 'horsepower', 'width'] for k = 3 : 3961.6899797594588\n",
      "RMSE of ['engine-size', 'horsepower', 'width', 'highway-mpg'] for k = 3 : 2350.9298330175825\n",
      "RMSE of ['engine-size', 'horsepower', 'width', 'highway-mpg', 'city-mpg'] for k = 3 : 2759.591707691989\n"
     ]
    }
   ],
   "source": [
    "knn_train_test1(cars,two_var, 3)\n",
    "knn_train_test1(cars, three_var, 3)\n",
    "knn_train_test1(cars, four_var, 3)\n",
    "knn_train_test1(cars, five_var, 3)"
   ]
  },
  {
   "cell_type": "code",
   "execution_count": 283,
   "metadata": {
    "collapsed": true
   },
   "outputs": [],
   "source": [
    "kval = np.arange(1,26,1)"
   ]
  },
  {
   "cell_type": "code",
   "execution_count": 323,
   "metadata": {
    "collapsed": true
   },
   "outputs": [],
   "source": [
    "def knn_train_test2(df, col, kval):\n",
    "    X = df[col]\n",
    "    y = df['price']\n",
    "    X_train, X_test, y_train, y_test = train_test_split(X, y, test_size = 0.2)\n",
    "    sc_X = StandardScaler()\n",
    "    X_train = sc_X.fit_transform(X_train)\n",
    "    X_test = sc_X.transform(X_test)\n",
    "    for k in kval:\n",
    "        knn = KNeighborsRegressor(k)\n",
    "        knn.fit(X_train, y_train)\n",
    "        y_pred = knn.predict(X_test)\n",
    "        mse = mean_squared_error(y_test, y_pred)\n",
    "        rmse = mse ** (1/2)\n",
    "        print(\"RMSE of {} for k = {} : {}\".format(col,k, rmse))\n",
    "        plt.xlim([0,25])\n",
    "        plt.ylim([0,7000])\n",
    "        plt.xticks(kval)\n",
    "        plt.xlabel(\"K value\")\n",
    "        plt.ylabel(\"RMSE\")\n",
    "        plt.title(\"Error graph for each K value\")\n",
    "        plt.bar(k,rmse)\n",
    "    plt.show()\n",
    "    "
   ]
  },
  {
   "cell_type": "code",
   "execution_count": 326,
   "metadata": {
    "collapsed": false
   },
   "outputs": [
    {
     "name": "stdout",
     "output_type": "stream",
     "text": [
      "RMSE of ['engine-size', 'horsepower', 'width', 'highway-mpg'] for k = 1 : 1431.0267337895937\n",
      "RMSE of ['engine-size', 'horsepower', 'width', 'highway-mpg'] for k = 2 : 1676.6427497402094\n",
      "RMSE of ['engine-size', 'horsepower', 'width', 'highway-mpg'] for k = 3 : 1758.7455756873985\n",
      "RMSE of ['engine-size', 'horsepower', 'width', 'highway-mpg'] for k = 4 : 2175.7824137949747\n",
      "RMSE of ['engine-size', 'horsepower', 'width', 'highway-mpg'] for k = 5 : 2143.5432437785616\n",
      "RMSE of ['engine-size', 'horsepower', 'width', 'highway-mpg'] for k = 6 : 2515.2395413046547\n",
      "RMSE of ['engine-size', 'horsepower', 'width', 'highway-mpg'] for k = 7 : 2690.036183832788\n",
      "RMSE of ['engine-size', 'horsepower', 'width', 'highway-mpg'] for k = 8 : 2772.2494237329765\n",
      "RMSE of ['engine-size', 'horsepower', 'width', 'highway-mpg'] for k = 9 : 2841.0935877397037\n",
      "RMSE of ['engine-size', 'horsepower', 'width', 'highway-mpg'] for k = 10 : 2920.52270220633\n",
      "RMSE of ['engine-size', 'horsepower', 'width', 'highway-mpg'] for k = 11 : 2960.5441863298875\n",
      "RMSE of ['engine-size', 'horsepower', 'width', 'highway-mpg'] for k = 12 : 2973.8971411894267\n",
      "RMSE of ['engine-size', 'horsepower', 'width', 'highway-mpg'] for k = 13 : 3017.882682469021\n",
      "RMSE of ['engine-size', 'horsepower', 'width', 'highway-mpg'] for k = 14 : 3115.807165027857\n",
      "RMSE of ['engine-size', 'horsepower', 'width', 'highway-mpg'] for k = 15 : 3197.460934506051\n",
      "RMSE of ['engine-size', 'horsepower', 'width', 'highway-mpg'] for k = 16 : 3277.1388278245\n",
      "RMSE of ['engine-size', 'horsepower', 'width', 'highway-mpg'] for k = 17 : 3358.81896956156\n",
      "RMSE of ['engine-size', 'horsepower', 'width', 'highway-mpg'] for k = 18 : 3445.3535104034327\n",
      "RMSE of ['engine-size', 'horsepower', 'width', 'highway-mpg'] for k = 19 : 3480.3904267615403\n",
      "RMSE of ['engine-size', 'horsepower', 'width', 'highway-mpg'] for k = 20 : 3546.139186378147\n",
      "RMSE of ['engine-size', 'horsepower', 'width', 'highway-mpg'] for k = 21 : 3538.0847791443675\n",
      "RMSE of ['engine-size', 'horsepower', 'width', 'highway-mpg'] for k = 22 : 3514.3614791999453\n",
      "RMSE of ['engine-size', 'horsepower', 'width', 'highway-mpg'] for k = 23 : 3538.2585750314565\n",
      "RMSE of ['engine-size', 'horsepower', 'width', 'highway-mpg'] for k = 24 : 3572.3298894213663\n",
      "RMSE of ['engine-size', 'horsepower', 'width', 'highway-mpg'] for k = 25 : 3623.2109273462156\n"
     ]
    },
    {
     "data": {
      "image/png": "[encoded data removed]",
      "text/plain": [
       "<matplotlib.figure.Figure at 0x1079bda0>"
      ]
     },
     "metadata": {},
     "output_type": "display_data"
    }
   ],
   "source": [
    "knn_train_test2(cars, four_var, kval)"
   ]
  },
  {
   "cell_type": "markdown",
   "metadata": {},
   "source": [
    "#### Conclusion"
   ]
  },
  {
   "cell_type": "markdown",
   "metadata": {},
   "source": [
    "From the graph, we see that the error is higher when k value goes beyind 10. RMSE is in the lower range when k < 10. \n",
    "Based on this observation, I choose k=4 and these four variables (engine-size, horsepower, width and highway-mpg) for an \n",
    "optimal model for deciding the price of the cars."
   ]
  },
  {
   "cell_type": "code",
   "execution_count": null,
   "metadata": {
    "collapsed": true
   },
   "outputs": [],
   "source": []
  }
 ],
 "metadata": {
  "kernelspec": {
   "display_name": "Python 3",
   "language": "python",
   "name": "python3"
  },
  "language_info": {
   "codemirror_mode": {
    "name": "ipython",
    "version": 3
   },
   "file_extension": ".py",
   "mimetype": "text/x-python",
   "name": "python",
   "nbconvert_exporter": "python",
   "pygments_lexer": "ipython3",
   "version": "3.6.0"
  }
 },
 "nbformat": 4,
 "nbformat_minor": 2
}
