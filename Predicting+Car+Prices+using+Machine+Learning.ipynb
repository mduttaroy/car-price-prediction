{
 "cells": [
  {
   "cell_type": "markdown",
   "metadata": {},
   "source": [
    "** Data Set Summary :** The dataset contains information on various cars about their different technical aspects and specifications such as their make, number of doors, horsepower, engine size, city and highway mpg etc. \n",
    "\n",
    "** Data Source : ** https://archive.ics.uci.edu/ml/datasets/Automobile\n",
    "\n",
    "** Goal :** The goal of this project is to ***predict the prices of cars*** based on the available specifications."
   ]
  },
  {
   "cell_type": "markdown",
   "metadata": {},
   "source": [
    "#### Collecting Data"
   ]
  },
  {
   "cell_type": "code",
   "execution_count": 2,
   "metadata": {
    "collapsed": true
   },
   "outputs": [],
   "source": [
    "# Importing all the necessary packages \n",
    "import numpy as np\n",
    "import pandas as pd\n",
    "import matplotlib.pyplot as plt\n",
    "%matplotlib inline"
   ]
  },
  {
   "cell_type": "code",
   "execution_count": 3,
   "metadata": {
    "collapsed": true
   },
   "outputs": [],
   "source": [
    "col_names = ['symboling','normalized-losses','make','fuel-type','aspiration','num-of-doors','body-style','drive-wheels','engine-location','wheel-base','length','width','height','curb-weight','engine-type','num-of-cylinders','engine-size','fuel-system','bore','stroke','compression-ratio','horsepower','peak-rpm','city-mpg','highway-mpg','price']\n",
    "cars = pd.read_csv(r'C:\\Users\\duttaroym\\Documents\\Python\\imports-85.data', names=col_names)"
   ]
  },
  {
   "cell_type": "markdown",
   "metadata": {},
   "source": [
    "#### Exploring the Data"
   ]
  },
  {
   "cell_type": "code",
   "execution_count": 4,
   "metadata": {
    "collapsed": false
   },
   "outputs": [
    {
     "name": "stdout",
     "output_type": "stream",
     "text": [
      "<class 'pandas.core.frame.DataFrame'>\n",
      "RangeIndex: 205 entries, 0 to 204\n",
      "Data columns (total 26 columns):\n",
      "symboling            205 non-null int64\n",
      "normalized-losses    205 non-null object\n",
      "make                 205 non-null object\n",
      "fuel-type            205 non-null object\n",
      "aspiration           205 non-null object\n",
      "num-of-doors         205 non-null object\n",
      "body-style           205 non-null object\n",
      "drive-wheels         205 non-null object\n",
      "engine-location      205 non-null object\n",
      "wheel-base           205 non-null float64\n",
      "length               205 non-null float64\n",
      "width                205 non-null float64\n",
      "height               205 non-null float64\n",
      "curb-weight          205 non-null int64\n",
      "engine-type          205 non-null object\n",
      "num-of-cylinders     205 non-null object\n",
      "engine-size          205 non-null int64\n",
      "fuel-system          205 non-null object\n",
      "bore                 205 non-null object\n",
      "stroke               205 non-null object\n",
      "compression-ratio    205 non-null float64\n",
      "horsepower           205 non-null object\n",
      "peak-rpm             205 non-null object\n",
      "city-mpg             205 non-null int64\n",
      "highway-mpg          205 non-null int64\n",
      "price                205 non-null object\n",
      "dtypes: float64(5), int64(5), object(16)\n",
      "memory usage: 41.7+ KB\n"
     ]
    }
   ],
   "source": [
    "cars.info()"
   ]
  },
  {
   "cell_type": "code",
   "execution_count": 5,
   "metadata": {
    "collapsed": false
   },
   "outputs": [
    {
     "data": {
      "text/html": [
       "<div>\n",
       "<table border=\"1\" class=\"dataframe\">\n",
       "  <thead>\n",
       "    <tr style=\"text-align: right;\">\n",
       "      <th></th>\n",
       "      <th>symboling</th>\n",
       "      <th>normalized-losses</th>\n",
       "      <th>make</th>\n",
       "      <th>fuel-type</th>\n",
       "      <th>aspiration</th>\n",
       "      <th>num-of-doors</th>\n",
       "      <th>body-style</th>\n",
       "      <th>drive-wheels</th>\n",
       "      <th>engine-location</th>\n",
       "      <th>wheel-base</th>\n",
       "      <th>...</th>\n",
       "      <th>engine-size</th>\n",
       "      <th>fuel-system</th>\n",
       "      <th>bore</th>\n",
       "      <th>stroke</th>\n",
       "      <th>compression-ratio</th>\n",
       "      <th>horsepower</th>\n",
       "      <th>peak-rpm</th>\n",
       "      <th>city-mpg</th>\n",
       "      <th>highway-mpg</th>\n",
       "      <th>price</th>\n",
       "    </tr>\n",
       "  </thead>\n",
       "  <tbody>\n",
       "    <tr>\n",
       "      <th>0</th>\n",
       "      <td>3</td>\n",
       "      <td>?</td>\n",
       "      <td>alfa-romero</td>\n",
       "      <td>gas</td>\n",
       "      <td>std</td>\n",
       "      <td>two</td>\n",
       "      <td>convertible</td>\n",
       "      <td>rwd</td>\n",
       "      <td>front</td>\n",
       "      <td>88.6</td>\n",
       "      <td>...</td>\n",
       "      <td>130</td>\n",
       "      <td>mpfi</td>\n",
       "      <td>3.47</td>\n",
       "      <td>2.68</td>\n",
       "      <td>9.0</td>\n",
       "      <td>111</td>\n",
       "      <td>5000</td>\n",
       "      <td>21</td>\n",
       "      <td>27</td>\n",
       "      <td>13495</td>\n",
       "    </tr>\n",
       "    <tr>\n",
       "      <th>1</th>\n",
       "      <td>3</td>\n",
       "      <td>?</td>\n",
       "      <td>alfa-romero</td>\n",
       "      <td>gas</td>\n",
       "      <td>std</td>\n",
       "      <td>two</td>\n",
       "      <td>convertible</td>\n",
       "      <td>rwd</td>\n",
       "      <td>front</td>\n",
       "      <td>88.6</td>\n",
       "      <td>...</td>\n",
       "      <td>130</td>\n",
       "      <td>mpfi</td>\n",
       "      <td>3.47</td>\n",
       "      <td>2.68</td>\n",
       "      <td>9.0</td>\n",
       "      <td>111</td>\n",
       "      <td>5000</td>\n",
       "      <td>21</td>\n",
       "      <td>27</td>\n",
       "      <td>16500</td>\n",
       "    </tr>\n",
       "    <tr>\n",
       "      <th>2</th>\n",
       "      <td>1</td>\n",
       "      <td>?</td>\n",
       "      <td>alfa-romero</td>\n",
       "      <td>gas</td>\n",
       "      <td>std</td>\n",
       "      <td>two</td>\n",
       "      <td>hatchback</td>\n",
       "      <td>rwd</td>\n",
       "      <td>front</td>\n",
       "      <td>94.5</td>\n",
       "      <td>...</td>\n",
       "      <td>152</td>\n",
       "      <td>mpfi</td>\n",
       "      <td>2.68</td>\n",
       "      <td>3.47</td>\n",
       "      <td>9.0</td>\n",
       "      <td>154</td>\n",
       "      <td>5000</td>\n",
       "      <td>19</td>\n",
       "      <td>26</td>\n",
       "      <td>16500</td>\n",
       "    </tr>\n",
       "    <tr>\n",
       "      <th>3</th>\n",
       "      <td>2</td>\n",
       "      <td>164</td>\n",
       "      <td>audi</td>\n",
       "      <td>gas</td>\n",
       "      <td>std</td>\n",
       "      <td>four</td>\n",
       "      <td>sedan</td>\n",
       "      <td>fwd</td>\n",
       "      <td>front</td>\n",
       "      <td>99.8</td>\n",
       "      <td>...</td>\n",
       "      <td>109</td>\n",
       "      <td>mpfi</td>\n",
       "      <td>3.19</td>\n",
       "      <td>3.40</td>\n",
       "      <td>10.0</td>\n",
       "      <td>102</td>\n",
       "      <td>5500</td>\n",
       "      <td>24</td>\n",
       "      <td>30</td>\n",
       "      <td>13950</td>\n",
       "    </tr>\n",
       "    <tr>\n",
       "      <th>4</th>\n",
       "      <td>2</td>\n",
       "      <td>164</td>\n",
       "      <td>audi</td>\n",
       "      <td>gas</td>\n",
       "      <td>std</td>\n",
       "      <td>four</td>\n",
       "      <td>sedan</td>\n",
       "      <td>4wd</td>\n",
       "      <td>front</td>\n",
       "      <td>99.4</td>\n",
       "      <td>...</td>\n",
       "      <td>136</td>\n",
       "      <td>mpfi</td>\n",
       "      <td>3.19</td>\n",
       "      <td>3.40</td>\n",
       "      <td>8.0</td>\n",
       "      <td>115</td>\n",
       "      <td>5500</td>\n",
       "      <td>18</td>\n",
       "      <td>22</td>\n",
       "      <td>17450</td>\n",
       "    </tr>\n",
       "  </tbody>\n",
       "</table>\n",
       "<p>5 rows × 26 columns</p>\n",
       "</div>"
      ],
      "text/plain": [
       "   symboling normalized-losses         make fuel-type aspiration num-of-doors  \\\n",
       "0          3                 ?  alfa-romero       gas        std          two   \n",
       "1          3                 ?  alfa-romero       gas        std          two   \n",
       "2          1                 ?  alfa-romero       gas        std          two   \n",
       "3          2               164         audi       gas        std         four   \n",
       "4          2               164         audi       gas        std         four   \n",
       "\n",
       "    body-style drive-wheels engine-location  wheel-base  ...    engine-size  \\\n",
       "0  convertible          rwd           front        88.6  ...            130   \n",
       "1  convertible          rwd           front        88.6  ...            130   \n",
       "2    hatchback          rwd           front        94.5  ...            152   \n",
       "3        sedan          fwd           front        99.8  ...            109   \n",
       "4        sedan          4wd           front        99.4  ...            136   \n",
       "\n",
       "   fuel-system  bore  stroke compression-ratio horsepower  peak-rpm city-mpg  \\\n",
       "0         mpfi  3.47    2.68               9.0        111      5000       21   \n",
       "1         mpfi  3.47    2.68               9.0        111      5000       21   \n",
       "2         mpfi  2.68    3.47               9.0        154      5000       19   \n",
       "3         mpfi  3.19    3.40              10.0        102      5500       24   \n",
       "4         mpfi  3.19    3.40               8.0        115      5500       18   \n",
       "\n",
       "  highway-mpg  price  \n",
       "0          27  13495  \n",
       "1          27  16500  \n",
       "2          26  16500  \n",
       "3          30  13950  \n",
       "4          22  17450  \n",
       "\n",
       "[5 rows x 26 columns]"
      ]
     },
     "execution_count": 5,
     "metadata": {},
     "output_type": "execute_result"
    }
   ],
   "source": [
    "cars.head()"
   ]
  },
  {
   "cell_type": "markdown",
   "metadata": {},
   "source": [
    "While inspecting, it appears that the dataset has missing values and those are indicated with '?' mark. \n",
    "\n",
    "The dataset is not showing any null values because all the missing value is filled with '?' ."
   ]
  },
  {
   "cell_type": "markdown",
   "metadata": {},
   "source": [
    "#### Cleaning and Transforming the Data"
   ]
  },
  {
   "cell_type": "code",
   "execution_count": 6,
   "metadata": {
    "collapsed": false
   },
   "outputs": [
    {
     "data": {
      "text/plain": [
       "?      41\n",
       "161    11\n",
       "91      8\n",
       "150     7\n",
       "104     6\n",
       "134     6\n",
       "128     6\n",
       "103     5\n",
       "168     5\n",
       "102     5\n",
       "95      5\n",
       "85      5\n",
       "65      5\n",
       "94      5\n",
       "74      5\n",
       "93      4\n",
       "118     4\n",
       "122     4\n",
       "148     4\n",
       "106     4\n",
       "137     3\n",
       "125     3\n",
       "101     3\n",
       "154     3\n",
       "115     3\n",
       "83      3\n",
       "194     2\n",
       "164     2\n",
       "197     2\n",
       "89      2\n",
       "192     2\n",
       "158     2\n",
       "108     2\n",
       "87      2\n",
       "129     2\n",
       "110     2\n",
       "119     2\n",
       "113     2\n",
       "153     2\n",
       "81      2\n",
       "188     2\n",
       "145     2\n",
       "107     1\n",
       "186     1\n",
       "98      1\n",
       "256     1\n",
       "78      1\n",
       "77      1\n",
       "121     1\n",
       "142     1\n",
       "90      1\n",
       "231     1\n",
       "Name: normalized-losses, dtype: int64"
      ]
     },
     "execution_count": 6,
     "metadata": {},
     "output_type": "execute_result"
    }
   ],
   "source": [
    "# Counting missing values\n",
    "cars['normalized-losses'].value_counts()"
   ]
  },
  {
   "cell_type": "markdown",
   "metadata": {},
   "source": [
    "Inquiring the range of missing values in 'normalized-losses' column, we can find that there are 41 missing values which are marked with  '?'. Its 20% of the whole dataset. \n",
    "So it will not be a good idea to drop such a big amount of data. \n",
    "\n",
    "But, the column ***'normalized-losses'*** represents the average loss payment per insured vehicle. \n",
    "\n",
    "So, it is unlikely to be a strong predictor of the price of the vehicle. Price can be a predictor of loss of payment but the other-way is not true. \n",
    "\n",
    "So we can drop this whole column from our dataset. "
   ]
  },
  {
   "cell_type": "code",
   "execution_count": 7,
   "metadata": {
    "collapsed": false
   },
   "outputs": [],
   "source": [
    "cars.drop('normalized-losses',axis = 1, inplace = True)"
   ]
  },
  {
   "cell_type": "code",
   "execution_count": 8,
   "metadata": {
    "collapsed": true
   },
   "outputs": [],
   "source": [
    "# Replacing the '?'\n",
    "cars.replace(\"?\", np.nan, inplace=True)"
   ]
  },
  {
   "cell_type": "code",
   "execution_count": 9,
   "metadata": {
    "collapsed": false
   },
   "outputs": [
    {
     "name": "stdout",
     "output_type": "stream",
     "text": [
      "<class 'pandas.core.frame.DataFrame'>\n",
      "RangeIndex: 205 entries, 0 to 204\n",
      "Data columns (total 25 columns):\n",
      "symboling            205 non-null int64\n",
      "make                 205 non-null object\n",
      "fuel-type            205 non-null object\n",
      "aspiration           205 non-null object\n",
      "num-of-doors         203 non-null object\n",
      "body-style           205 non-null object\n",
      "drive-wheels         205 non-null object\n",
      "engine-location      205 non-null object\n",
      "wheel-base           205 non-null float64\n",
      "length               205 non-null float64\n",
      "width                205 non-null float64\n",
      "height               205 non-null float64\n",
      "curb-weight          205 non-null int64\n",
      "engine-type          205 non-null object\n",
      "num-of-cylinders     205 non-null object\n",
      "engine-size          205 non-null int64\n",
      "fuel-system          205 non-null object\n",
      "bore                 201 non-null object\n",
      "stroke               201 non-null object\n",
      "compression-ratio    205 non-null float64\n",
      "horsepower           203 non-null object\n",
      "peak-rpm             203 non-null object\n",
      "city-mpg             205 non-null int64\n",
      "highway-mpg          205 non-null int64\n",
      "price                201 non-null object\n",
      "dtypes: float64(5), int64(5), object(15)\n",
      "memory usage: 40.1+ KB\n"
     ]
    }
   ],
   "source": [
    "cars.info()"
   ]
  },
  {
   "cell_type": "markdown",
   "metadata": {},
   "source": [
    "It appears that the new dataframe consists maximum 11 missing values in various columns. Since it is very small number, these observation can be deleted without having any impact on the data. "
   ]
  },
  {
   "cell_type": "code",
   "execution_count": 10,
   "metadata": {
    "collapsed": false
   },
   "outputs": [],
   "source": [
    "# Droppping NaN values\n",
    "cars.dropna(axis = 0, how = 'any', inplace = 'True')"
   ]
  },
  {
   "cell_type": "code",
   "execution_count": 11,
   "metadata": {
    "collapsed": false
   },
   "outputs": [],
   "source": [
    "# Correcting the Datatypes of variables\n",
    "cars[['price','peak-rpm','horsepower']] = cars[['price','peak-rpm','horsepower']].astype(int)\n",
    "cars[['stroke','bore',]] = cars[['stroke','bore',]].astype(float)"
   ]
  },
  {
   "cell_type": "markdown",
   "metadata": {},
   "source": [
    "#### Modelling the Data & Evaluation"
   ]
  },
  {
   "cell_type": "code",
   "execution_count": 12,
   "metadata": {
    "collapsed": true
   },
   "outputs": [],
   "source": [
    "# Importing the necessary SciKit-Learn Libraries\n",
    "from sklearn.model_selection import train_test_split\n",
    "from sklearn.preprocessing import StandardScaler\n",
    "from sklearn.neighbors import KNeighborsRegressor\n",
    "from sklearn.metrics import mean_squared_error"
   ]
  },
  {
   "cell_type": "code",
   "execution_count": 24,
   "metadata": {
    "collapsed": false
   },
   "outputs": [],
   "source": [
    "# Creating a function to model the data with knn and evaluate using root mean squared error\n",
    "def knn_train_test(df, col, kval):\n",
    "    X = df[[col]]\n",
    "    y = df['price']\n",
    "    X_train, X_test, y_train, y_test = train_test_split(X, y, test_size = 0.2)\n",
    "    sc_X = StandardScaler()\n",
    "    X_train = sc_X.fit_transform(X_train)\n",
    "    X_test = sc_X.transform(X_test)\n",
    "    for k in kval:\n",
    "        knn = KNeighborsRegressor(k)\n",
    "        knn.fit(X_train, y_train)\n",
    "        y_pred = knn.predict(X_test)\n",
    "        mse = mean_squared_error(y_test, y_pred)\n",
    "        rmse = mse ** (1/2)\n",
    "        print(\"RMSE of {} for k = {} : {}\".format(col,k, rmse))\n",
    "        plt.xlim([0,10])\n",
    "        plt.ylim([0,10000])\n",
    "        plt.xticks([1,3,5,7,9])\n",
    "        plt.bar(k,rmse)\n",
    "                         \n",
    "    plt.show()      \n",
    "          \n",
    "    "
   ]
  },
  {
   "cell_type": "code",
   "execution_count": 26,
   "metadata": {
    "collapsed": true
   },
   "outputs": [],
   "source": [
    "features = ['highway-mpg', 'city-mpg', 'peak-rpm', 'horsepower', 'engine-size', 'curb-weight', \n",
    "            'width', 'length', 'height', 'wheel-base','bore', 'stroke']"
   ]
  },
  {
   "cell_type": "code",
   "execution_count": 15,
   "metadata": {
    "collapsed": false
   },
   "outputs": [
    {
     "name": "stdout",
     "output_type": "stream",
     "text": [
      "RMSE of highway-mpg for k = 1 : 5000.181576190188\n",
      "RMSE of highway-mpg for k = 3 : 4939.339530170202\n",
      "RMSE of highway-mpg for k = 5 : 4286.7064438079515\n",
      "RMSE of highway-mpg for k = 7 : 4166.837604928988\n",
      "RMSE of highway-mpg for k = 9 : 4343.181017423841\n"
     ]
    },
    {
     "data": {
      "image/png": "[encoded data removed]",
      "text/plain": [
       "<matplotlib.figure.Figure at 0xa322630>"
      ]
     },
     "metadata": {},
     "output_type": "display_data"
    },
    {
     "name": "stdout",
     "output_type": "stream",
     "text": [
      "RMSE of city-mpg for k = 1 : 4131.129664836521\n",
      "RMSE of city-mpg for k = 3 : 3349.8371410853497\n",
      "RMSE of city-mpg for k = 5 : 3142.054973159918\n",
      "RMSE of city-mpg for k = 7 : 3374.3793722831474\n",
      "RMSE of city-mpg for k = 9 : 3446.2967934403678\n"
     ]
    },
    {
     "data": {
      "image/png": "[encoded data removed]",
      "text/plain": [
       "<matplotlib.figure.Figure at 0xa6e1f28>"
      ]
     },
     "metadata": {},
     "output_type": "display_data"
    },
    {
     "name": "stdout",
     "output_type": "stream",
     "text": [
      "RMSE of peak-rpm for k = 1 : 6723.855357738957\n",
      "RMSE of peak-rpm for k = 3 : 8930.138172378845\n",
      "RMSE of peak-rpm for k = 5 : 9629.461996474074\n",
      "RMSE of peak-rpm for k = 7 : 9501.432470067599\n",
      "RMSE of peak-rpm for k = 9 : 9570.848995109029\n"
     ]
    },
    {
     "data": {
      "image/png": "[encoded data removed]",
      "text/plain": [
       "<matplotlib.figure.Figure at 0xa785dd8>"
      ]
     },
     "metadata": {},
     "output_type": "display_data"
    },
    {
     "name": "stdout",
     "output_type": "stream",
     "text": [
      "RMSE of horsepower for k = 1 : 3325.0773463145724\n",
      "RMSE of horsepower for k = 3 : 3698.237116415167\n",
      "RMSE of horsepower for k = 5 : 3384.0433371474874\n",
      "RMSE of horsepower for k = 7 : 3882.1193651880108\n",
      "RMSE of horsepower for k = 9 : 4296.803265193603\n"
     ]
    },
    {
     "data": {
      "image/png": "[encoded data removed]",
      "text/plain": [
       "<matplotlib.figure.Figure at 0xb8375c0>"
      ]
     },
     "metadata": {},
     "output_type": "display_data"
    },
    {
     "name": "stdout",
     "output_type": "stream",
     "text": [
      "RMSE of engine-size for k = 1 : 3515.0387020519524\n",
      "RMSE of engine-size for k = 3 : 2933.953387748599\n",
      "RMSE of engine-size for k = 5 : 3161.734204109495\n",
      "RMSE of engine-size for k = 7 : 3080.940251630703\n",
      "RMSE of engine-size for k = 9 : 3091.4557327131665\n"
     ]
    },
    {
     "data": {
      "image/png": "[encoded data removed]",
      "text/plain": [
       "<matplotlib.figure.Figure at 0xb8cadd8>"
      ]
     },
     "metadata": {},
     "output_type": "display_data"
    },
    {
     "name": "stdout",
     "output_type": "stream",
     "text": [
      "RMSE of curb-weight for k = 1 : 7715.014138279083\n",
      "RMSE of curb-weight for k = 3 : 6568.054033884221\n",
      "RMSE of curb-weight for k = 5 : 6000.732379746103\n",
      "RMSE of curb-weight for k = 7 : 5976.2411883638515\n",
      "RMSE of curb-weight for k = 9 : 5503.017165234089\n"
     ]
    },
    {
     "data": {
      "image/png": "[encoded data removed]",
      "text/plain": [
       "<matplotlib.figure.Figure at 0xb969208>"
      ]
     },
     "metadata": {},
     "output_type": "display_data"
    },
    {
     "name": "stdout",
     "output_type": "stream",
     "text": [
      "RMSE of width for k = 1 : 3663.8332210670933\n",
      "RMSE of width for k = 3 : 4286.143566466792\n",
      "RMSE of width for k = 5 : 4869.419242895083\n",
      "RMSE of width for k = 7 : 4483.70828533307\n",
      "RMSE of width for k = 9 : 4346.221760450083\n"
     ]
    },
    {
     "data": {
      "image/png": "[encoded data removed]",
      "text/plain": [
       "<matplotlib.figure.Figure at 0xb98c240>"
      ]
     },
     "metadata": {},
     "output_type": "display_data"
    },
    {
     "name": "stdout",
     "output_type": "stream",
     "text": [
      "RMSE of length for k = 1 : 4649.543277818553\n",
      "RMSE of length for k = 3 : 4479.791933380586\n",
      "RMSE of length for k = 5 : 5279.542394602989\n",
      "RMSE of length for k = 7 : 6248.229675304296\n",
      "RMSE of length for k = 9 : 6365.048825957408\n"
     ]
    },
    {
     "data": {
      "image/png": "[encoded data removed]",
      "text/plain": [
       "<matplotlib.figure.Figure at 0xb9bf748>"
      ]
     },
     "metadata": {},
     "output_type": "display_data"
    },
    {
     "name": "stdout",
     "output_type": "stream",
     "text": [
      "RMSE of height for k = 1 : 8840.994343079232\n",
      "RMSE of height for k = 3 : 8151.236151687043\n",
      "RMSE of height for k = 5 : 8274.768820444162\n",
      "RMSE of height for k = 7 : 8227.34735028806\n",
      "RMSE of height for k = 9 : 8243.803109476772\n"
     ]
    },
    {
     "data": {
      "image/png": "[encoded data removed]",
      "text/plain": [
       "<matplotlib.figure.Figure at 0xbaf64e0>"
      ]
     },
     "metadata": {},
     "output_type": "display_data"
    },
    {
     "name": "stdout",
     "output_type": "stream",
     "text": [
      "RMSE of wheel-base for k = 1 : 4563.052543289471\n",
      "RMSE of wheel-base for k = 3 : 4718.009447955478\n",
      "RMSE of wheel-base for k = 5 : 5107.296163684826\n",
      "RMSE of wheel-base for k = 7 : 4836.534864070121\n",
      "RMSE of wheel-base for k = 9 : 4752.266703594781\n"
     ]
    },
    {
     "data": {
      "image/png": "[encoded data removed]",
      "text/plain": [
       "<matplotlib.figure.Figure at 0xbbc2cf8>"
      ]
     },
     "metadata": {},
     "output_type": "display_data"
    },
    {
     "name": "stdout",
     "output_type": "stream",
     "text": [
      "RMSE of bore for k = 1 : 8690.313078955005\n",
      "RMSE of bore for k = 3 : 7758.890867992956\n",
      "RMSE of bore for k = 5 : 6931.879451805186\n",
      "RMSE of bore for k = 7 : 7236.94979818678\n",
      "RMSE of bore for k = 9 : 7652.749980994083\n"
     ]
    },
    {
     "data": {
      "image/png": "[encoded data removed]",
      "text/plain": [
       "<matplotlib.figure.Figure at 0xbc89358>"
      ]
     },
     "metadata": {},
     "output_type": "display_data"
    },
    {
     "name": "stdout",
     "output_type": "stream",
     "text": [
      "RMSE of stroke for k = 1 : 7918.350075809791\n",
      "RMSE of stroke for k = 3 : 7718.459756783994\n",
      "RMSE of stroke for k = 5 : 8320.646652385027\n",
      "RMSE of stroke for k = 7 : 8302.128644815146\n",
      "RMSE of stroke for k = 9 : 7995.323248879167\n"
     ]
    },
    {
     "data": {
      "image/png": "[encoded data removed]",
      "text/plain": [
       "<matplotlib.figure.Figure at 0xbbd05f8>"
      ]
     },
     "metadata": {},
     "output_type": "display_data"
    }
   ],
   "source": [
    "for i in features:\n",
    "    knn_train_test(cars, i, [1, 3, 5, 7, 9])"
   ]
  },
  {
   "cell_type": "markdown",
   "metadata": {
    "collapsed": true
   },
   "source": [
    "From the graphs, we can see for **engine-size** and **horsepower**, the errors are lower than other variables. So I take these 2 variable to create the KNearestNeighbours model for deciding the price of the car"
   ]
  },
  {
   "cell_type": "code",
   "execution_count": 16,
   "metadata": {
    "collapsed": true
   },
   "outputs": [],
   "source": [
    "two_var = ['engine-size', 'horsepower']\n",
    "three_var = ['engine-size', 'horsepower','width' ] # For 3 variables\n",
    "four_var = ['engine-size', 'horsepower', 'width', 'highway-mpg'] # For 4 variables\n",
    "five_var = ['engine-size', 'horsepower', 'width', 'highway-mpg','city-mpg'] # for 5 variables"
   ]
  },
  {
   "cell_type": "code",
   "execution_count": 27,
   "metadata": {
    "collapsed": true
   },
   "outputs": [],
   "source": [
    "# Creating a function to model and evaluate with a specific k value\n",
    "def knn_train_test1(df, col, k):\n",
    "    X = df[col]\n",
    "    y = df['price']\n",
    "    X_train, X_test, y_train, y_test = train_test_split(X, y, test_size = 0.2)\n",
    "    sc_X = StandardScaler()\n",
    "    X_train = sc_X.fit_transform(X_train)\n",
    "    X_test = sc_X.transform(X_test)\n",
    "    knn = KNeighborsRegressor(k)\n",
    "    knn.fit(X_train, y_train)\n",
    "    y_pred = knn.predict(X_test)\n",
    "    mse = mean_squared_error(y_test, y_pred)\n",
    "    rmse = mse ** (1/2)\n",
    "    print(\"RMSE of {} for k = {} : {}\".format(col,k, rmse))\n",
    "        "
   ]
  },
  {
   "cell_type": "code",
   "execution_count": 18,
   "metadata": {
    "collapsed": false
   },
   "outputs": [
    {
     "name": "stdout",
     "output_type": "stream",
     "text": [
      "RMSE of ['engine-size', 'horsepower'] for k = 3 : 2246.3217550810546\n",
      "RMSE of ['engine-size', 'horsepower', 'width'] for k = 3 : 2669.4045074700507\n",
      "RMSE of ['engine-size', 'horsepower', 'width', 'highway-mpg'] for k = 3 : 2727.383518603472\n",
      "RMSE of ['engine-size', 'horsepower', 'width', 'highway-mpg', 'city-mpg'] for k = 3 : 2498.5332694554013\n"
     ]
    }
   ],
   "source": [
    "knn_train_test1(cars,two_var, 3)\n",
    "knn_train_test1(cars, three_var, 3)\n",
    "knn_train_test1(cars, four_var, 3)\n",
    "knn_train_test1(cars, five_var, 3)"
   ]
  },
  {
   "cell_type": "code",
   "execution_count": 19,
   "metadata": {
    "collapsed": false
   },
   "outputs": [],
   "source": [
    "kval = np.arange(1,26,1) # Listing K-values for hyperparameter optimization"
   ]
  },
  {
   "cell_type": "code",
   "execution_count": 20,
   "metadata": {
    "collapsed": true
   },
   "outputs": [],
   "source": [
    "def knn_train_test2(df, col, kval):\n",
    "    X = df[col]\n",
    "    y = df['price']\n",
    "    X_train, X_test, y_train, y_test = train_test_split(X, y, test_size = 0.2)\n",
    "    sc_X = StandardScaler()\n",
    "    X_train = sc_X.fit_transform(X_train)\n",
    "    X_test = sc_X.transform(X_test)\n",
    "    for k in kval:\n",
    "        knn = KNeighborsRegressor(k)\n",
    "        knn.fit(X_train, y_train)\n",
    "        y_pred = knn.predict(X_test)\n",
    "        mse = mean_squared_error(y_test, y_pred)\n",
    "        rmse = mse ** (1/2)\n",
    "        print(\"RMSE of {} for k = {} : {}\".format(col,k, rmse))\n",
    "        plt.xlim([0,25])\n",
    "        plt.ylim([0,7000])\n",
    "        plt.xticks(kval)\n",
    "        plt.xlabel(\"K value\")\n",
    "        plt.ylabel(\"RMSE\")\n",
    "        plt.title(\"Error graph for each K value\")\n",
    "        plt.bar(k,rmse)\n",
    "    plt.show()\n",
    "    "
   ]
  },
  {
   "cell_type": "code",
   "execution_count": 23,
   "metadata": {
    "collapsed": false
   },
   "outputs": [
    {
     "name": "stdout",
     "output_type": "stream",
     "text": [
      "RMSE of ['engine-size', 'horsepower', 'width', 'highway-mpg'] for k = 1 : 4722.475977596325\n",
      "RMSE of ['engine-size', 'horsepower', 'width', 'highway-mpg'] for k = 2 : 3778.22367026677\n",
      "RMSE of ['engine-size', 'horsepower', 'width', 'highway-mpg'] for k = 3 : 2842.802232940683\n",
      "RMSE of ['engine-size', 'horsepower', 'width', 'highway-mpg'] for k = 4 : 2304.8208736505717\n",
      "RMSE of ['engine-size', 'horsepower', 'width', 'highway-mpg'] for k = 5 : 2496.8210750924145\n",
      "RMSE of ['engine-size', 'horsepower', 'width', 'highway-mpg'] for k = 6 : 2938.7532764423368\n",
      "RMSE of ['engine-size', 'horsepower', 'width', 'highway-mpg'] for k = 7 : 3245.404181517746\n",
      "RMSE of ['engine-size', 'horsepower', 'width', 'highway-mpg'] for k = 8 : 3415.4139051408524\n",
      "RMSE of ['engine-size', 'horsepower', 'width', 'highway-mpg'] for k = 9 : 3558.84839799497\n",
      "RMSE of ['engine-size', 'horsepower', 'width', 'highway-mpg'] for k = 10 : 3615.516850274022\n",
      "RMSE of ['engine-size', 'horsepower', 'width', 'highway-mpg'] for k = 11 : 3635.1560187381115\n",
      "RMSE of ['engine-size', 'horsepower', 'width', 'highway-mpg'] for k = 12 : 3681.561766699398\n",
      "RMSE of ['engine-size', 'horsepower', 'width', 'highway-mpg'] for k = 13 : 3785.3121117673563\n",
      "RMSE of ['engine-size', 'horsepower', 'width', 'highway-mpg'] for k = 14 : 3871.83813466911\n",
      "RMSE of ['engine-size', 'horsepower', 'width', 'highway-mpg'] for k = 15 : 3946.920318526549\n",
      "RMSE of ['engine-size', 'horsepower', 'width', 'highway-mpg'] for k = 16 : 4007.7316066959993\n",
      "RMSE of ['engine-size', 'horsepower', 'width', 'highway-mpg'] for k = 17 : 4124.373721115648\n",
      "RMSE of ['engine-size', 'horsepower', 'width', 'highway-mpg'] for k = 18 : 4181.116771891584\n",
      "RMSE of ['engine-size', 'horsepower', 'width', 'highway-mpg'] for k = 19 : 4126.3470442955495\n",
      "RMSE of ['engine-size', 'horsepower', 'width', 'highway-mpg'] for k = 20 : 4119.16798127349\n",
      "RMSE of ['engine-size', 'horsepower', 'width', 'highway-mpg'] for k = 21 : 4158.424837975207\n",
      "RMSE of ['engine-size', 'horsepower', 'width', 'highway-mpg'] for k = 22 : 4241.930074118196\n",
      "RMSE of ['engine-size', 'horsepower', 'width', 'highway-mpg'] for k = 23 : 4279.486407080912\n",
      "RMSE of ['engine-size', 'horsepower', 'width', 'highway-mpg'] for k = 24 : 4316.90684348067\n",
      "RMSE of ['engine-size', 'horsepower', 'width', 'highway-mpg'] for k = 25 : 4371.505348586222\n"
     ]
    },
    {
     "data": {
      "image/png": "[encoded data removed]",
      "text/plain": [
       "<matplotlib.figure.Figure at 0xbd1c1d0>"
      ]
     },
     "metadata": {},
     "output_type": "display_data"
    }
   ],
   "source": [
    "knn_train_test2(cars, four_var, kval)"
   ]
  },
  {
   "cell_type": "markdown",
   "metadata": {},
   "source": [
    "#### Conclusion"
   ]
  },
  {
   "cell_type": "markdown",
   "metadata": {},
   "source": [
    "From the graph, we see that the error is higher when k value goes beyind 10. RMSE is in the lower range when k < 10. \n",
    "Based on this observation, I choose k=4 and these four variables (engine-size, horsepower, width and highway-mpg) for an \n",
    "optimal model for deciding the price of the cars."
   ]
  }
 ],
 "metadata": {
  "kernelspec": {
   "display_name": "Python 3",
   "language": "python",
   "name": "python3"
  },
  "language_info": {
   "codemirror_mode": {
    "name": "ipython",
    "version": 3
   },
   "file_extension": ".py",
   "mimetype": "text/x-python",
   "name": "python",
   "nbconvert_exporter": "python",
   "pygments_lexer": "ipython3",
   "version": "3.6.0"
  }
 },
 "nbformat": 4,
 "nbformat_minor": 2
}
